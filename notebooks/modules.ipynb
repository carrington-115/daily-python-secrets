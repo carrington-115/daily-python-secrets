{
 "cells": [
  {
   "cell_type": "code",
   "execution_count": 1,
   "metadata": {},
   "outputs": [
    {
     "name": "stdout",
     "output_type": "stream",
     "text": [
      "Welcome to modules\n"
     ]
    }
   ],
   "source": [
    "print('Welcome to modules')"
   ]
  },
  {
   "cell_type": "code",
   "execution_count": null,
   "metadata": {},
   "outputs": [],
   "source": [
    "pip install pdf2docx"
   ]
  },
  {
   "cell_type": "code",
   "execution_count": null,
   "metadata": {},
   "outputs": [],
   "source": [
    "# converting pdf to docx file\n",
    "from pdf2docx import Converter\n",
    "pdf_file = Converter('static/doc/pdf/file1.pdf')\n",
    "pdf_file.convert('static/doc/docx/file1_convert.docx')\n",
    "pdf_file.close()"
   ]
  },
  {
   "cell_type": "code",
   "execution_count": 7,
   "metadata": {},
   "outputs": [
    {
     "name": "stdout",
     "output_type": "stream",
     "text": [
      "Requirement already satisfied: python-barcode in c:\\users\\fruma\\appdata\\local\\programs\\python\\python312\\lib\\site-packages (0.15.1)\n",
      "Note: you may need to restart the kernel to use updated packages.\n"
     ]
    }
   ],
   "source": [
    "pip install python-barcode"
   ]
  },
  {
   "cell_type": "code",
   "execution_count": 10,
   "metadata": {},
   "outputs": [
    {
     "data": {
      "image/png": "[encoded data removed]",
      "text/plain": [
       "<IPython.core.display.Image object>"
      ]
     },
     "metadata": {},
     "output_type": "display_data"
    }
   ],
   "source": [
    "import barcode\n",
    "from barcode.writer import ImageWriter\n",
    "from IPython.display import Image, display\n",
    "\n",
    "barcode_format = barcode.get_barcode_class('ean13')\n",
    "barcode_number = '1234567895540'\n",
    "barcode_image = barcode_format(barcode_number, writer=ImageWriter())\n",
    "barcode_image.save('static/barcode')\n",
    "display(Image('static/barcode.png'))\n",
    "\n"
   ]
  },
  {
   "cell_type": "code",
   "execution_count": null,
   "metadata": {},
   "outputs": [],
   "source": [
    "pip install pyshorteners"
   ]
  },
  {
   "cell_type": "code",
   "execution_count": 13,
   "metadata": {},
   "outputs": [
    {
     "name": "stdout",
     "output_type": "stream",
     "text": [
      "\n",
      "long url: https://www.github.com/carrington-115\n",
      "short url: https://tinyurl.com/229dez7d\n",
      "\n"
     ]
    }
   ],
   "source": [
    "# shortening url with python library\n",
    "import pyshorteners\n",
    "long_url = input(\"Enter the long url: \")\n",
    "short_url = pyshorteners.Shortener().tinyurl.short(long_url)\n",
    "print(f\"\"\"\n",
    "long url: {long_url}\n",
    "short url: {short_url}\n",
    "\"\"\")"
   ]
  },
  {
   "cell_type": "code",
   "execution_count": null,
   "metadata": {},
   "outputs": [],
   "source": []
  }
 ],
 "metadata": {
  "kernelspec": {
   "display_name": "Python 3",
   "language": "python",
   "name": "python3"
  },
  "language_info": {
   "codemirror_mode": {
    "name": "ipython",
    "version": 3
   },
   "file_extension": ".py",
   "mimetype": "text/x-python",
   "name": "python",
   "nbconvert_exporter": "python",
   "pygments_lexer": "ipython3",
   "version": "3.12.6"
  }
 },
 "nbformat": 4,
 "nbformat_minor": 2
}
