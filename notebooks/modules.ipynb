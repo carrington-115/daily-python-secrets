{
 "cells": [
  {
   "cell_type": "code",
   "execution_count": 1,
   "metadata": {},
   "outputs": [
    {
     "name": "stdout",
     "output_type": "stream",
     "text": [
      "Welcome to modules\n"
     ]
    }
   ],
   "source": [
    "print('Welcome to modules')"
   ]
  },
  {
   "cell_type": "code",
   "execution_count": 1,
   "metadata": {},
   "outputs": [
    {
     "name": "stdout",
     "output_type": "stream",
     "text": [
      "Collecting pdf2docxNote: you may need to restart the kernel to use updated packages.\n",
      "\n",
      "  Using cached pdf2docx-0.5.8-py3-none-any.whl.metadata (3.2 kB)\n",
      "Collecting PyMuPDF>=1.19.0 (from pdf2docx)\n",
      "  Using cached PyMuPDF-1.24.13-cp39-abi3-win_amd64.whl.metadata (3.4 kB)\n",
      "Collecting python-docx>=0.8.10 (from pdf2docx)\n",
      "  Using cached python_docx-1.1.2-py3-none-any.whl.metadata (2.0 kB)\n",
      "Requirement already satisfied: fonttools>=4.24.0 in c:\\users\\fruma\\appdata\\local\\programs\\python\\python312\\lib\\site-packages (from pdf2docx) (4.54.1)\n",
      "Requirement already satisfied: numpy>=1.17.2 in c:\\users\\fruma\\appdata\\local\\programs\\python\\python312\\lib\\site-packages (from pdf2docx) (2.0.2)\n",
      "Requirement already satisfied: opencv-python-headless>=4.5 in c:\\users\\fruma\\appdata\\local\\programs\\python\\python312\\lib\\site-packages (from pdf2docx) (4.10.0.84)\n",
      "Collecting fire>=0.3.0 (from pdf2docx)\n",
      "  Using cached fire-0.7.0.tar.gz (87 kB)\n",
      "  Installing build dependencies: started\n",
      "  Installing build dependencies: finished with status 'done'\n",
      "  Getting requirements to build wheel: started\n",
      "  Getting requirements to build wheel: finished with status 'done'\n",
      "  Preparing metadata (pyproject.toml): started\n",
      "  Preparing metadata (pyproject.toml): finished with status 'done'\n",
      "Collecting termcolor (from fire>=0.3.0->pdf2docx)\n",
      "  Using cached termcolor-2.5.0-py3-none-any.whl.metadata (6.1 kB)\n",
      "Collecting lxml>=3.1.0 (from python-docx>=0.8.10->pdf2docx)\n",
      "  Downloading lxml-5.3.0-cp312-cp312-win_amd64.whl.metadata (3.9 kB)\n",
      "Collecting typing-extensions>=4.9.0 (from python-docx>=0.8.10->pdf2docx)\n",
      "  Using cached typing_extensions-4.12.2-py3-none-any.whl.metadata (3.0 kB)\n",
      "Using cached pdf2docx-0.5.8-py3-none-any.whl (132 kB)\n",
      "Using cached PyMuPDF-1.24.13-cp39-abi3-win_amd64.whl (16.2 MB)\n",
      "Using cached python_docx-1.1.2-py3-none-any.whl (244 kB)\n",
      "Downloading lxml-5.3.0-cp312-cp312-win_amd64.whl (3.8 MB)\n",
      "   ---------------------------------------- 0.0/3.8 MB ? eta -:--:--\n",
      "   ---------------------------------------- 0.0/3.8 MB ? eta -:--:--\n",
      "   -- ------------------------------------- 0.3/3.8 MB ? eta -:--:--\n",
      "   ----- ---------------------------------- 0.5/3.8 MB 1.7 MB/s eta 0:00:02\n",
      "   -------- ------------------------------- 0.8/3.8 MB 1.5 MB/s eta 0:00:03\n",
      "   ------------- -------------------------- 1.3/3.8 MB 1.8 MB/s eta 0:00:02\n",
      "   ---------------- ----------------------- 1.6/3.8 MB 1.6 MB/s eta 0:00:02\n",
      "   ------------------- -------------------- 1.8/3.8 MB 1.7 MB/s eta 0:00:02\n",
      "   ------------------- -------------------- 1.8/3.8 MB 1.7 MB/s eta 0:00:02\n",
      "   ------------------- -------------------- 1.8/3.8 MB 1.7 MB/s eta 0:00:02\n",
      "   ------------------- -------------------- 1.8/3.8 MB 1.7 MB/s eta 0:00:02\n",
      "   --------------------- ------------------ 2.1/3.8 MB 1.0 MB/s eta 0:00:02\n",
      "   --------------------------- ------------ 2.6/3.8 MB 1.2 MB/s eta 0:00:02\n",
      "   -------------------------------- ------- 3.1/3.8 MB 1.3 MB/s eta 0:00:01\n",
      "   -------------------------------------- - 3.7/3.8 MB 1.4 MB/s eta 0:00:01\n",
      "   ---------------------------------------- 3.8/3.8 MB 1.3 MB/s eta 0:00:00\n",
      "Using cached typing_extensions-4.12.2-py3-none-any.whl (37 kB)\n",
      "Using cached termcolor-2.5.0-py3-none-any.whl (7.8 kB)\n",
      "Building wheels for collected packages: fire\n",
      "  Building wheel for fire (pyproject.toml): started\n",
      "  Building wheel for fire (pyproject.toml): finished with status 'done'\n",
      "  Created wheel for fire: filename=fire-0.7.0-py3-none-any.whl size=114264 sha256=e9ecbb03c36310e304867b6a90a17ac4aa905369f3e132ac6de277981c277296\n",
      "  Stored in directory: c:\\users\\fruma\\appdata\\local\\pip\\cache\\wheels\\9e\\5b\\45\\29f72e55d87a29426b04b3cfdf20325c079eb97ab74f59017d\n",
      "Successfully built fire\n",
      "Installing collected packages: typing-extensions, termcolor, PyMuPDF, lxml, python-docx, fire, pdf2docx\n",
      "Successfully installed PyMuPDF-1.24.13 fire-0.7.0 lxml-5.3.0 pdf2docx-0.5.8 python-docx-1.1.2 termcolor-2.5.0 typing-extensions-4.12.2\n"
     ]
    },
    {
     "name": "stderr",
     "output_type": "stream",
     "text": [
      "  WARNING: The script pymupdf.exe is installed in 'c:\\Users\\fruma\\AppData\\Local\\Programs\\Python\\Python312\\Scripts' which is not on PATH.\n",
      "  Consider adding this directory to PATH or, if you prefer to suppress this warning, use --no-warn-script-location.\n",
      "  WARNING: The script pdf2docx.exe is installed in 'c:\\Users\\fruma\\AppData\\Local\\Programs\\Python\\Python312\\Scripts' which is not on PATH.\n",
      "  Consider adding this directory to PATH or, if you prefer to suppress this warning, use --no-warn-script-location.\n"
     ]
    }
   ],
   "source": [
    "pip install pdf2docx"
   ]
  },
  {
   "cell_type": "code",
   "execution_count": 2,
   "metadata": {},
   "outputs": [
    {
     "name": "stderr",
     "output_type": "stream",
     "text": [
      "[INFO] Start to convert static/doc/pdf/file1.pdf\n",
      "[INFO] \u001b[1;36m[1/4] Opening document...\u001b[0m\n",
      "[INFO] \u001b[1;36m[2/4] Analyzing document...\u001b[0m\n",
      "[WARNING] Ignore Line \"<image>\" due to overlap\n",
      "[WARNING] Ignore Line \"<image>\" due to overlap\n",
      "[WARNING] Ignore Line \"1Requires a Microsoft 365 Personal or Family subscription.\" due to overlap\n",
      "[INFO] \u001b[1;36m[3/4] Parsing pages...\u001b[0m\n",
      "[INFO] (1/5) Page 1\n",
      "[INFO] (2/5) Page 2\n",
      "[INFO] (3/5) Page 3\n",
      "[INFO] (4/5) Page 4\n",
      "[INFO] (5/5) Page 5\n",
      "[INFO] \u001b[1;36m[4/4] Creating pages...\u001b[0m\n",
      "[INFO] (1/5) Page 1\n",
      "[INFO] (2/5) Page 2\n",
      "[INFO] (3/5) Page 3\n",
      "[INFO] (4/5) Page 4\n",
      "[INFO] (5/5) Page 5\n",
      "[INFO] Terminated in 3.84s.\n"
     ]
    }
   ],
   "source": [
    "# converting pdf to docx file\n",
    "from pdf2docx import Converter\n",
    "pdf_file = Converter('static/doc/pdf/file1.pdf')\n",
    "pdf_file.convert('static/doc/docx/file1_convert.docx')\n",
    "pdf_file.close()"
   ]
  },
  {
   "cell_type": "code",
   "execution_count": null,
   "metadata": {},
   "outputs": [],
   "source": []
  }
 ],
 "metadata": {
  "kernelspec": {
   "display_name": "Python 3",
   "language": "python",
   "name": "python3"
  },
  "language_info": {
   "codemirror_mode": {
    "name": "ipython",
    "version": 3
   },
   "file_extension": ".py",
   "mimetype": "text/x-python",
   "name": "python",
   "nbconvert_exporter": "python",
   "pygments_lexer": "ipython3",
   "version": "3.12.6"
  }
 },
 "nbformat": 4,
 "nbformat_minor": 2
}
